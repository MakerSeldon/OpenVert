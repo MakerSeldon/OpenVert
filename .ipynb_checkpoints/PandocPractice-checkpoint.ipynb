{
 "cells": [
  {
   "cell_type": "code",
   "execution_count": 46,
   "metadata": {},
   "outputs": [
    {
     "data": {
      "text/plain": [
       "'\\nIncompatablity. Github needs relative image addressing for each README.md page\\n\\nPandoc needs relative addressing from where pandoc is run.\\n\\nClone repository\\nFind all *.md file and paths\\nfor file in files:\\n    Read each *.md file in\\n    prepend the relative path change to each of the images\\n    write file out with new filename XXXX.pandoc.md\\n\\nrun pandoc \\n\\nremove all *.pandoc.md files\\n\\n'"
      ]
     },
     "execution_count": 46,
     "metadata": {},
     "output_type": "execute_result"
    }
   ],
   "source": [
    "import os\n",
    "import re\n",
    "\n",
    "# This script is designed to fix the problem with pandoc and github \n",
    "# incompatability. \n",
    "\n",
    "'''\n",
    "Incompatablity. Github needs relative image addressing for each README.md page\n",
    "\n",
    "Pandoc needs relative addressing from where pandoc is run.\n",
    "\n",
    "Clone repository\n",
    "Find all *.md file and paths\n",
    "for file in files:\n",
    "    Read each *.md file in\n",
    "    prepend the relative path change to each of the images\n",
    "    write file out with new filename XXXX.pandoc.md\n",
    "\n",
    "run pandoc \n",
    "\n",
    "remove all *.pandoc.md files\n",
    "\n",
    "'''"
   ]
  },
  {
   "cell_type": "code",
   "execution_count": 60,
   "metadata": {},
   "outputs": [
    {
     "ename": "SyntaxError",
     "evalue": "invalid syntax (<ipython-input-60-86fe73ecfc31>, line 48)",
     "output_type": "error",
     "traceback": [
      "\u001b[0;36m  File \u001b[0;32m\"<ipython-input-60-86fe73ecfc31>\"\u001b[0;36m, line \u001b[0;32m48\u001b[0m\n\u001b[0;31m    print(':+++++++++++: '+newrelpath)\u001b[0m\n\u001b[0m        ^\u001b[0m\n\u001b[0;31mSyntaxError\u001b[0m\u001b[0;31m:\u001b[0m invalid syntax\n"
     ]
    }
   ],
   "source": [
    "\n",
    "def findAllmarkdown():\n",
    "    '''\n",
    "    Call from the current directory\n",
    "    TODO: make it so it takes a path to start with. \n",
    "    '''\n",
    "    mdlist = []\n",
    "\n",
    "    for root, dirs, files in os.walk(\".\"): \n",
    "        for f in files: \n",
    "            fullpath = os.path.join(root,f) \n",
    "            if fullpath.endswith(\".md\"):\n",
    "                mdlist.append((fullpath, root, f))\n",
    "\n",
    "    return mdlist\n",
    "\n",
    "\n",
    "def findImageMarkdown(file, path):\n",
    "    '''\n",
    "    Input: a file\n",
    "    Output: prints a list of Image links\n",
    "    '''\n",
    "    f = open(file)\n",
    "    pattern = \"!\\[(.*?)\\]\\((.*?)\\)\"\n",
    "    for line in f.readlines():\n",
    "        test= re.match(pattern, line)\n",
    "        if test != None:\n",
    "            #print(line)\n",
    "            derp = prependPath(line,path)\n",
    "            #print(derp)\n",
    "    return\n",
    "\n",
    "def prependPath(line, path):\n",
    "    relpath = line.split('(')\n",
    "    dirstruct = path.split('/')\n",
    "    relpathstruct = relpath[1].split('/')\n",
    "    print('=== Start =====')\n",
    "    print('path:  ', path)\n",
    "    print('dirst: ',dirstruct)\n",
    "    print('relst: ',relpathstruct)\n",
    "  \n",
    "    if len(relpathstruct)>1:\n",
    "        print('d: ' + dirstruct[1])\n",
    "        print('r: ' + relpathstruct[0])\n",
    "        if dirstruct[1] == relpathstruct[0]:\n",
    "            print(' do nothing. ')\n",
    "            newrelpath = relpath\n",
    "            print(newrelpath\n",
    "            print(':++---++++++: '+newrelpath)\n",
    "            print(':-----------: '+relpath[0]+newrelpath)\n",
    "            print(newrelpath)\n",
    "    else:\n",
    "        newrelpath = (\"\".join(['(',path,'/',relpath[1]]))\n",
    "        print(':+++++++++++: '+newrelpath)\n",
    "        print(':-----------: '+relpath[0]+newrelpath)\n",
    "        print(newrelpath)\n",
    "        \n",
    "    print('==== END ======\\n')\n",
    "    \n"
   ]
  },
  {
   "cell_type": "code",
   "execution_count": 61,
   "metadata": {
    "scrolled": false
   },
   "outputs": [
    {
     "name": "stdout",
     "output_type": "stream",
     "text": [
      "=== Start =====\n",
      "path:   .\n",
      "dirst:  ['.']\n",
      "relst:  ['CurrentBlockDiagram2.png){ width=250px}\\n']\n",
      ":+++++++++++: (./CurrentBlockDiagram2.png){ width=250px}\n",
      "\n",
      ":-----------: ![System Block Diagram](./CurrentBlockDiagram2.png){ width=250px}\n",
      "\n",
      "(./CurrentBlockDiagram2.png){ width=250px}\n",
      "\n",
      "==== END ======\n",
      "\n",
      "=== Start =====\n",
      "path:   .\n",
      "dirst:  ['.']\n",
      "relst:  ['Progress.jpg)\\n']\n",
      ":+++++++++++: (./Progress.jpg)\n",
      "\n",
      ":-----------: ![Picture Under Test](./Progress.jpg)\n",
      "\n",
      "(./Progress.jpg)\n",
      "\n",
      "==== END ======\n",
      "\n",
      "=== Start =====\n",
      "path:   ./System\n",
      "dirst:  ['.', 'System']\n",
      "relst:  ['CurrentBlockDiagram2.png)\\n']\n",
      ":+++++++++++: (./System/CurrentBlockDiagram2.png)\n",
      "\n",
      ":-----------: ![System Block Diagram](./System/CurrentBlockDiagram2.png)\n",
      "\n",
      "(./System/CurrentBlockDiagram2.png)\n",
      "\n",
      "==== END ======\n",
      "\n",
      "=== Start =====\n",
      "path:   ./System/PressureRelief\n",
      "dirst:  ['.', 'System', 'PressureRelief']\n",
      "relst:  ['System', 'RawDesigns', 'PRV_sketch.jpg)\\n']\n",
      "d: System\n",
      "r: System\n",
      " do nothing. \n"
     ]
    },
    {
     "ename": "TypeError",
     "evalue": "can only concatenate str (not \"list\") to str",
     "output_type": "error",
     "traceback": [
      "\u001b[0;31m---------------------------------------------------------------------------\u001b[0m",
      "\u001b[0;31mTypeError\u001b[0m                                 Traceback (most recent call last)",
      "\u001b[0;32m<ipython-input-61-b476b0407c64>\u001b[0m in \u001b[0;36m<module>\u001b[0;34m\u001b[0m\n\u001b[1;32m      8\u001b[0m \u001b[0;32mfor\u001b[0m \u001b[0mfile\u001b[0m \u001b[0;32min\u001b[0m \u001b[0mfilelist\u001b[0m\u001b[0;34m:\u001b[0m\u001b[0;34m\u001b[0m\u001b[0;34m\u001b[0m\u001b[0m\n\u001b[1;32m      9\u001b[0m     \u001b[0;31m#print(file[0])\u001b[0m\u001b[0;34m\u001b[0m\u001b[0;34m\u001b[0m\u001b[0;34m\u001b[0m\u001b[0m\n\u001b[0;32m---> 10\u001b[0;31m     \u001b[0mfindImageMarkdown\u001b[0m\u001b[0;34m(\u001b[0m\u001b[0mfile\u001b[0m\u001b[0;34m[\u001b[0m\u001b[0mFULLPATH\u001b[0m\u001b[0;34m]\u001b[0m\u001b[0;34m,\u001b[0m\u001b[0mfile\u001b[0m\u001b[0;34m[\u001b[0m\u001b[0mROOTPATH\u001b[0m\u001b[0;34m]\u001b[0m\u001b[0;34m)\u001b[0m\u001b[0;34m\u001b[0m\u001b[0;34m\u001b[0m\u001b[0m\n\u001b[0m\u001b[1;32m     11\u001b[0m \u001b[0;34m\u001b[0m\u001b[0m\n",
      "\u001b[0;32m<ipython-input-58-7bdb41d63360>\u001b[0m in \u001b[0;36mfindImageMarkdown\u001b[0;34m(file, path)\u001b[0m\n\u001b[1;32m     26\u001b[0m         \u001b[0;32mif\u001b[0m \u001b[0mtest\u001b[0m \u001b[0;34m!=\u001b[0m \u001b[0;32mNone\u001b[0m\u001b[0;34m:\u001b[0m\u001b[0;34m\u001b[0m\u001b[0;34m\u001b[0m\u001b[0m\n\u001b[1;32m     27\u001b[0m             \u001b[0;31m#print(line)\u001b[0m\u001b[0;34m\u001b[0m\u001b[0;34m\u001b[0m\u001b[0;34m\u001b[0m\u001b[0m\n\u001b[0;32m---> 28\u001b[0;31m             \u001b[0mderp\u001b[0m \u001b[0;34m=\u001b[0m \u001b[0mprependPath\u001b[0m\u001b[0;34m(\u001b[0m\u001b[0mline\u001b[0m\u001b[0;34m,\u001b[0m\u001b[0mpath\u001b[0m\u001b[0;34m)\u001b[0m\u001b[0;34m\u001b[0m\u001b[0;34m\u001b[0m\u001b[0m\n\u001b[0m\u001b[1;32m     29\u001b[0m             \u001b[0;31m#print(derp)\u001b[0m\u001b[0;34m\u001b[0m\u001b[0;34m\u001b[0m\u001b[0;34m\u001b[0m\u001b[0m\n\u001b[1;32m     30\u001b[0m     \u001b[0;32mreturn\u001b[0m\u001b[0;34m\u001b[0m\u001b[0;34m\u001b[0m\u001b[0m\n",
      "\u001b[0;32m<ipython-input-58-7bdb41d63360>\u001b[0m in \u001b[0;36mprependPath\u001b[0;34m(line, path)\u001b[0m\n\u001b[1;32m     45\u001b[0m             \u001b[0mprint\u001b[0m\u001b[0;34m(\u001b[0m\u001b[0;34m' do nothing. '\u001b[0m\u001b[0;34m)\u001b[0m\u001b[0;34m\u001b[0m\u001b[0;34m\u001b[0m\u001b[0m\n\u001b[1;32m     46\u001b[0m             \u001b[0mnewrelpath\u001b[0m \u001b[0;34m=\u001b[0m \u001b[0mrelpath\u001b[0m\u001b[0;34m\u001b[0m\u001b[0;34m\u001b[0m\u001b[0m\n\u001b[0;32m---> 47\u001b[0;31m             \u001b[0mprint\u001b[0m\u001b[0;34m(\u001b[0m\u001b[0;34m':+++++++++++: '\u001b[0m\u001b[0;34m+\u001b[0m\u001b[0mnewrelpath\u001b[0m\u001b[0;34m)\u001b[0m\u001b[0;34m\u001b[0m\u001b[0;34m\u001b[0m\u001b[0m\n\u001b[0m\u001b[1;32m     48\u001b[0m             \u001b[0mprint\u001b[0m\u001b[0;34m(\u001b[0m\u001b[0;34m':-----------: '\u001b[0m\u001b[0;34m+\u001b[0m\u001b[0mrelpath\u001b[0m\u001b[0;34m[\u001b[0m\u001b[0;36m0\u001b[0m\u001b[0;34m]\u001b[0m\u001b[0;34m+\u001b[0m\u001b[0mnewrelpath\u001b[0m\u001b[0;34m)\u001b[0m\u001b[0;34m\u001b[0m\u001b[0;34m\u001b[0m\u001b[0m\n\u001b[1;32m     49\u001b[0m             \u001b[0mprint\u001b[0m\u001b[0;34m(\u001b[0m\u001b[0mnewrelpath\u001b[0m\u001b[0;34m)\u001b[0m\u001b[0;34m\u001b[0m\u001b[0;34m\u001b[0m\u001b[0m\n",
      "\u001b[0;31mTypeError\u001b[0m: can only concatenate str (not \"list\") to str"
     ]
    }
   ],
   "source": [
    "\n",
    "filelist = []\n",
    "filelist = findAllmarkdown()\n",
    "\n",
    "FULLPATH = 0\n",
    "ROOTPATH = 1\n",
    "FILENAME = 2\n",
    "\n",
    "for file in filelist:\n",
    "    #print(file[0])\n",
    "    findImageMarkdown(file[FULLPATH],file[ROOTPATH])\n",
    "    "
   ]
  },
  {
   "cell_type": "code",
   "execution_count": 49,
   "metadata": {},
   "outputs": [
    {
     "data": {
      "text/plain": [
       "'/Users/Brian/Documents/GitHub/OpenVert'"
      ]
     },
     "execution_count": 49,
     "metadata": {},
     "output_type": "execute_result"
    }
   ],
   "source": [
    "pwd"
   ]
  },
  {
   "cell_type": "code",
   "execution_count": 9,
   "metadata": {},
   "outputs": [
    {
     "data": {
      "text/plain": [
       "'sb'"
      ]
     },
     "execution_count": 9,
     "metadata": {},
     "output_type": "execute_result"
    }
   ],
   "source": [
    "\"\".join(['s','b'])"
   ]
  },
  {
   "cell_type": "code",
   "execution_count": null,
   "metadata": {},
   "outputs": [],
   "source": []
  }
 ],
 "metadata": {
  "kernelspec": {
   "display_name": "Python 3",
   "language": "python",
   "name": "python3"
  },
  "language_info": {
   "codemirror_mode": {
    "name": "ipython",
    "version": 3
   },
   "file_extension": ".py",
   "mimetype": "text/x-python",
   "name": "python",
   "nbconvert_exporter": "python",
   "pygments_lexer": "ipython3",
   "version": "3.7.4"
  }
 },
 "nbformat": 4,
 "nbformat_minor": 2
}
