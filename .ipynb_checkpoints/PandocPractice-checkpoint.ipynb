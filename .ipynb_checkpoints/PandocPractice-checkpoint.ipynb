{
 "cells": [
  {
   "cell_type": "code",
   "execution_count": 1,
   "metadata": {},
   "outputs": [],
   "source": [
    "import os\n",
    "import re\n",
    "\n",
    "# This script is designed to fix the problem with pandoc and github \n",
    "# incompatability. \n",
    "\n",
    "'''\n",
    "Incompatablity. Github needs relative image addressing for each README.md page\n",
    "\n",
    "Pandoc needs relative addressing from where pandoc is run.\n",
    "\n",
    "Clone repository\n",
    "Find all *.md file and paths\n",
    "for file in files:\n",
    "    Read each *.md file in\n",
    "    prepend the relative path change to each of the images\n",
    "    write file out with new filename XXXX.pandoc.md\n",
    "\n",
    "run pandoc \n",
    "\n",
    "remove all *.pandoc.md files\n",
    "\n",
    "'''"
   ]
  },
  {
   "cell_type": "code",
   "execution_count": null,
   "metadata": {},
   "outputs": [],
   "source": [
    "\n",
    "def findAllmarkdown():\n",
    "    '''\n",
    "    Call from the current directory\n",
    "    TODO: make it so it takes a path to start with. \n",
    "    '''\n",
    "    mdlist = []\n",
    "\n",
    "    for root, dirs, files in os.walk(\".\"): \n",
    "        for f in files: \n",
    "            fullpath = os.path.join(root,f) \n",
    "            if fullpath.endswith(\".md\"):\n",
    "                mdlist.append((fullpath, root, f))\n",
    "\n",
    "return mdlist\n",
    "\n",
    "\n",
    "def findImageMarkdown(file):\n",
    "    '''\n",
    "    Input: a file\n",
    "    Output: prints a list of Image links\n",
    "    '''\n",
    "    pattern = \"!\\[(.*?)\\]\\((.*?)\\)\"\n",
    "    for line in f.readlines():\n",
    "        test= re.match(pattern, line)\n",
    "        if test != None:\n",
    "            print(line)\n",
    "            \n",
    "    return\n"
   ]
  }
 ],
 "metadata": {
  "kernelspec": {
   "display_name": "Python 3",
   "language": "python",
   "name": "python3"
  },
  "language_info": {
   "codemirror_mode": {
    "name": "ipython",
    "version": 3
   },
   "file_extension": ".py",
   "mimetype": "text/x-python",
   "name": "python",
   "nbconvert_exporter": "python",
   "pygments_lexer": "ipython3",
   "version": "3.7.4"
  }
 },
 "nbformat": 4,
 "nbformat_minor": 2
}
