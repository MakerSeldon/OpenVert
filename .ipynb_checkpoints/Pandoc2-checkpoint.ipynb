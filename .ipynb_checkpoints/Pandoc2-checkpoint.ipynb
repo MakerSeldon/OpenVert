{
 "cells": [
  {
   "cell_type": "code",
   "execution_count": 1,
   "metadata": {},
   "outputs": [],
   "source": [
    "import os\n",
    "import re"
   ]
  },
  {
   "cell_type": "code",
   "execution_count": 31,
   "metadata": {},
   "outputs": [],
   "source": [
    "# Find all the markdown files. \n",
    "def findAllmarkdown():\n",
    "    mdlist = []\n",
    "    pandoclist = []\n",
    "    for root, dirs, files in os.walk(\".\"): \n",
    "        for f in files: \n",
    "            fullpath = os.path.join(root,f) \n",
    "            if fullpath.endswith(\".md\"):\n",
    "                mdlist.append((fullpath, root, f))\n",
    "    return mdlist\n",
    "\n",
    "def createPandocFile(fullpath, root, f):\n",
    "    \n",
    "    temp1 = f.split('.')\n",
    "    temp2 = temp1[0]+'.pandoc.'+temp1[1] \n",
    "    pandocfilename = root +'/'+ temp2\n",
    "    return pandocfilename\n",
    "\n",
    "\n",
    "def findImageMarkdown(file, path):\n",
    "    f = open(file)\n",
    "    pattern = \"!\\[(.*?)\\]\\((.*?)\\)\"\n",
    "    for line in f.readlines():\n",
    "        test= re.match(pattern, line)\n",
    "        if test != None:\n",
    "            derp = prependPath(line,path)\n",
    "            print(derp)\n",
    "    return\n",
    "\n",
    "def prependPath(line, path):\n",
    "    relpath = line.split('(')\n",
    "    dirstruct = path.split('/')\n",
    "    relpathstruct = relpath[1].split('/')\n",
    "    print('=== Start =====')\n",
    "    print('path:  ', path)\n",
    "    print('dirst: ',dirstruct)\n",
    "    print('relst: ',relpathstruct)\n",
    "  \n",
    "    if len(relpathstruct)>1:\n",
    "        print('d: ' + dirstruct[1])\n",
    "        print('r: ' + relpathstruct[0])\n",
    "        if dirstruct[1] == relpathstruct[0]:\n",
    "            pass\n",
    "    else:\n",
    "        newpath = (\"\".join(['(',path,'/',relpath[1]]))\n",
    "        \n",
    "def ReadWriteFile(file, pdfilename):\n",
    "    f = open(file[0])\n",
    "    pattern = \"!\\[(.*?)\\]\\((.*?)\\)\"\n",
    "    for line in f.readlines():\n",
    "        test= re.match(pattern, line)\n",
    "        if test != None:\n",
    "            derp = prependPath(line,path)    \n",
    "            print(derp)"
   ]
  },
  {
   "cell_type": "code",
   "execution_count": 36,
   "metadata": {},
   "outputs": [
    {
     "name": "stdout",
     "output_type": "stream",
     "text": [
      "Prepping ./README.md for printing\n",
      "Prepping ./System/README.md for printing\n"
     ]
    }
   ],
   "source": [
    "mdlist = findAllmarkdown()\n",
    "#for md in mdlist:\n",
    "#    print(md)\n",
    "\n",
    "for file in mdlist[0:2]:\n",
    "    fullpath = file[0]\n",
    "    rootpath = file[1]\n",
    "    filename = file[2]\n",
    "    pdfilename = createPandocFile(fullpath, rootpath, filename)\n",
    "    print(\"Prepping {} for printing\".format(fullpath))\n",
    "    ReadWriteFile(file,pdfilename)\n",
    "    \n",
    "    \n",
    "    \n",
    "    \n",
    "\n",
    "    \n",
    "\n",
    "\n",
    "\n",
    "\n"
   ]
  },
  {
   "cell_type": "code",
   "execution_count": null,
   "metadata": {},
   "outputs": [],
   "source": [
    "filelist[0]"
   ]
  },
  {
   "cell_type": "code",
   "execution_count": null,
   "metadata": {},
   "outputs": [],
   "source": [
    "cat derp.md.pandoc"
   ]
  },
  {
   "cell_type": "code",
   "execution_count": null,
   "metadata": {},
   "outputs": [],
   "source": []
  }
 ],
 "metadata": {
  "kernelspec": {
   "display_name": "Python 3",
   "language": "python",
   "name": "python3"
  },
  "language_info": {
   "codemirror_mode": {
    "name": "ipython",
    "version": 3
   },
   "file_extension": ".py",
   "mimetype": "text/x-python",
   "name": "python",
   "nbconvert_exporter": "python",
   "pygments_lexer": "ipython3",
   "version": "3.7.4"
  }
 },
 "nbformat": 4,
 "nbformat_minor": 2
}
